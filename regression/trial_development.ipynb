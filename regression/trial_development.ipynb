{
 "cells": [
  {
   "cell_type": "code",
   "execution_count": 2,
   "id": "initial_id",
   "metadata": {
    "collapsed": true,
    "ExecuteTime": {
     "end_time": "2024-07-12T22:13:47.368193Z",
     "start_time": "2024-07-12T22:13:46.047183Z"
    }
   },
   "outputs": [
    {
     "data": {
      "text/plain": "<Figure size 640x480 with 1 Axes>",
      "image/png": "[encoded data removed]"
     },
     "metadata": {},
     "output_type": "display_data"
    }
   ],
   "source": [
    "import torch\n",
    "import torch.nn as nn\n",
    "import torch.optim as optim\n",
    "\n",
    "# Generate some synthetic data\n",
    "torch.manual_seed(0)\n",
    "N=500\n",
    "x = torch.linspace(0, 10, N).unsqueeze(1)\n",
    "y = torch.cat((x[:50] * 2 + 1, x[50:] * -3 + 20)) + torch.randn(100, 1)\n",
    "\n",
    "\n",
    "# draw the data\n",
    "import matplotlib.pyplot as plt\n",
    "plt.scatter(x, y)\n",
    "plt.show()\n"
   ]
  },
  {
   "cell_type": "code",
   "execution_count": 3,
   "outputs": [
    {
     "name": "stdout",
     "output_type": "stream",
     "text": [
      "     0    1    2  position\n",
      "0  335  148  141         0\n",
      "1  335  148  140         1\n",
      "2  335  148  140         2\n",
      "3  335  148  140         3\n",
      "4  335  148  139         4\n"
     ]
    }
   ],
   "source": [
    "import pandas as pd\n",
    "fn = '/gladstone/engelhardt/home/hvu/source/RNA_rates/splicingrates/simulations/tests/coverage_df.csv.gz'\n",
    "df = pd.read_csv(fn, header = 0, index_col=None, sep = '\\t')\n",
    "print(df.head())\n",
    "tdf = (df).copy()\n",
    "tdf.reset_index(drop=True, inplace=True)\n",
    "X = tdf.loc[:6480]['position'].values\n",
    "Y = tdf.loc[:6480]['0'].values\n",
    "X = X/1000\n",
    "# turn X and Y into tensors\n",
    "X = torch.tensor(X, dtype=torch.float32)\n",
    "Y = torch.tensor(Y, dtype=torch.float32)"
   ],
   "metadata": {
    "collapsed": false,
    "ExecuteTime": {
     "end_time": "2024-07-12T22:13:49.673748Z",
     "start_time": "2024-07-12T22:13:49.476156Z"
    }
   },
   "id": "df3c485d0f0257ab"
  },
  {
   "cell_type": "code",
   "execution_count": 4,
   "outputs": [
    {
     "name": "stdout",
     "output_type": "stream",
     "text": [
      "tensor([0.0000e+00, 1.0000e-03, 2.0000e-03,  ..., 6.4780e+00, 6.4790e+00,\n",
      "        6.4800e+00])\n",
      "tensor([335., 335., 335.,  ...,   1.,   1.,   1.])\n"
     ]
    }
   ],
   "source": [
    "print(X)\n",
    "print(Y)"
   ],
   "metadata": {
    "collapsed": false,
    "ExecuteTime": {
     "end_time": "2024-07-12T22:14:02.708396Z",
     "start_time": "2024-07-12T22:14:02.699135Z"
    }
   },
   "id": "134901994bd086d"
  },
  {
   "cell_type": "code",
   "execution_count": 5,
   "outputs": [],
   "source": [
    "import torch\n",
    "import torch.nn as nn\n",
    "import torch.optim as optim\n",
    "\n",
    "# Define the piecewise linear model\n",
    "class PiecewiseLinearModel(nn.Module):\n",
    "    def __init__(self, px=None, gap=0.1, x_min=0, x_max=10):\n",
    "        super(PiecewiseLinearModel, self).__init__()\n",
    "        if px is None:\n",
    "            px = torch.linspace(x_min, x_max, int((x_max - x_min) / gap) + 1)\n",
    "        self.px = px\n",
    "        self.xgap = px[1] - px[0]\n",
    "        self.py = nn.Parameter(torch.zeros(len(px), dtype=torch.float32))\n",
    "\n",
    "    def forward(self, x):\n",
    "        # get the index of the models that x belongs to, should be integer\n",
    "        idx = (x / self.xgap).long()  # this will round down\n",
    "        slope = (self.py[idx + 1] - self.py[idx]) / self.xgap\n",
    "        intercept = self.py[idx] - slope * self.px[idx]\n",
    "        result = slope * x + intercept\n",
    "        return result\n",
    "    \n",
    "    def fit(self, X, Y, criterion=nn.MSELoss(), optimizer=optim.Adam([py], lr=0.01), num_epochs=1000):\n",
    "        for epoch in range(num_epochs):\n",
    "            self.train()\n",
    "            optimizer.zero_grad()\n",
    "            outputs = self(X)  # given X, predict Y\n",
    "            loss = criterion(outputs, Y)\n",
    "            loss.backward()\n",
    "            optimizer.step()\n",
    "            if (epoch + 1) % 100 == 0:\n",
    "                print(f'Epoch [{epoch + 1}/{num_epochs}], Loss: {loss.item():.4f}')\n",
    "                \n",
    "    def print_model(self):\n",
    "        print(\"Optimized py values:\", self.py.data)\n",
    "        print(\"Optimized px values:\", self.px)\n",
    "        return \n"
   ],
   "metadata": {
    "collapsed": false,
    "ExecuteTime": {
     "end_time": "2024-07-12T22:14:12.135960Z",
     "start_time": "2024-07-12T22:14:11.579766Z"
    }
   },
   "id": "f65c420b1f753411"
  },
  {
   "cell_type": "code",
   "execution_count": 6,
   "outputs": [
    {
     "ename": "IndexError",
     "evalue": "index 65 is out of bounds for dimension 0 with size 65",
     "output_type": "error",
     "traceback": [
      "\u001B[0;31m---------------------------------------------------------------------------\u001B[0m",
      "\u001B[0;31mIndexError\u001B[0m                                Traceback (most recent call last)",
      "Cell \u001B[0;32mIn[6], line 5\u001B[0m\n\u001B[1;32m      3\u001B[0m px \u001B[38;5;241m=\u001B[39m torch\u001B[38;5;241m.\u001B[39mlinspace(X\u001B[38;5;241m.\u001B[39mmin(), X\u001B[38;5;241m.\u001B[39mmax(), \u001B[38;5;28mint\u001B[39m((X\u001B[38;5;241m.\u001B[39mmax() \u001B[38;5;241m-\u001B[39m X\u001B[38;5;241m.\u001B[39mmin()) \u001B[38;5;241m/\u001B[39m xgap) \u001B[38;5;241m+\u001B[39m \u001B[38;5;241m1\u001B[39m)\n\u001B[1;32m      4\u001B[0m model \u001B[38;5;241m=\u001B[39m PiecewiseLinearModel(px\u001B[38;5;241m=\u001B[39mpx)\n\u001B[0;32m----> 5\u001B[0m model\u001B[38;5;241m.\u001B[39mfit(X, Y)\n\u001B[1;32m      6\u001B[0m model\u001B[38;5;241m.\u001B[39mprint_model()\n",
      "Cell \u001B[0;32mIn[5], line 33\u001B[0m, in \u001B[0;36mPiecewiseLinearModel.fit\u001B[0;34m(self, X, Y, criterion, optimizer, num_epochs)\u001B[0m\n\u001B[1;32m     31\u001B[0m \u001B[38;5;28mself\u001B[39m\u001B[38;5;241m.\u001B[39mtrain()\n\u001B[1;32m     32\u001B[0m optimizer\u001B[38;5;241m.\u001B[39mzero_grad()\n\u001B[0;32m---> 33\u001B[0m outputs \u001B[38;5;241m=\u001B[39m \u001B[38;5;28mself\u001B[39m(X)  \u001B[38;5;66;03m# given X, predict Y\u001B[39;00m\n\u001B[1;32m     34\u001B[0m loss \u001B[38;5;241m=\u001B[39m criterion(outputs, Y)\n\u001B[1;32m     35\u001B[0m loss\u001B[38;5;241m.\u001B[39mbackward()\n",
      "File \u001B[0;32m~/anaconda3/envs/new_rna/lib/python3.11/site-packages/torch/nn/modules/module.py:1532\u001B[0m, in \u001B[0;36mModule._wrapped_call_impl\u001B[0;34m(self, *args, **kwargs)\u001B[0m\n\u001B[1;32m   1530\u001B[0m     \u001B[38;5;28;01mreturn\u001B[39;00m \u001B[38;5;28mself\u001B[39m\u001B[38;5;241m.\u001B[39m_compiled_call_impl(\u001B[38;5;241m*\u001B[39margs, \u001B[38;5;241m*\u001B[39m\u001B[38;5;241m*\u001B[39mkwargs)  \u001B[38;5;66;03m# type: ignore[misc]\u001B[39;00m\n\u001B[1;32m   1531\u001B[0m \u001B[38;5;28;01melse\u001B[39;00m:\n\u001B[0;32m-> 1532\u001B[0m     \u001B[38;5;28;01mreturn\u001B[39;00m \u001B[38;5;28mself\u001B[39m\u001B[38;5;241m.\u001B[39m_call_impl(\u001B[38;5;241m*\u001B[39margs, \u001B[38;5;241m*\u001B[39m\u001B[38;5;241m*\u001B[39mkwargs)\n",
      "File \u001B[0;32m~/anaconda3/envs/new_rna/lib/python3.11/site-packages/torch/nn/modules/module.py:1541\u001B[0m, in \u001B[0;36mModule._call_impl\u001B[0;34m(self, *args, **kwargs)\u001B[0m\n\u001B[1;32m   1536\u001B[0m \u001B[38;5;66;03m# If we don't have any hooks, we want to skip the rest of the logic in\u001B[39;00m\n\u001B[1;32m   1537\u001B[0m \u001B[38;5;66;03m# this function, and just call forward.\u001B[39;00m\n\u001B[1;32m   1538\u001B[0m \u001B[38;5;28;01mif\u001B[39;00m \u001B[38;5;129;01mnot\u001B[39;00m (\u001B[38;5;28mself\u001B[39m\u001B[38;5;241m.\u001B[39m_backward_hooks \u001B[38;5;129;01mor\u001B[39;00m \u001B[38;5;28mself\u001B[39m\u001B[38;5;241m.\u001B[39m_backward_pre_hooks \u001B[38;5;129;01mor\u001B[39;00m \u001B[38;5;28mself\u001B[39m\u001B[38;5;241m.\u001B[39m_forward_hooks \u001B[38;5;129;01mor\u001B[39;00m \u001B[38;5;28mself\u001B[39m\u001B[38;5;241m.\u001B[39m_forward_pre_hooks\n\u001B[1;32m   1539\u001B[0m         \u001B[38;5;129;01mor\u001B[39;00m _global_backward_pre_hooks \u001B[38;5;129;01mor\u001B[39;00m _global_backward_hooks\n\u001B[1;32m   1540\u001B[0m         \u001B[38;5;129;01mor\u001B[39;00m _global_forward_hooks \u001B[38;5;129;01mor\u001B[39;00m _global_forward_pre_hooks):\n\u001B[0;32m-> 1541\u001B[0m     \u001B[38;5;28;01mreturn\u001B[39;00m forward_call(\u001B[38;5;241m*\u001B[39margs, \u001B[38;5;241m*\u001B[39m\u001B[38;5;241m*\u001B[39mkwargs)\n\u001B[1;32m   1543\u001B[0m \u001B[38;5;28;01mtry\u001B[39;00m:\n\u001B[1;32m   1544\u001B[0m     result \u001B[38;5;241m=\u001B[39m \u001B[38;5;28;01mNone\u001B[39;00m\n",
      "Cell \u001B[0;32mIn[5], line 24\u001B[0m, in \u001B[0;36mPiecewiseLinearModel.forward\u001B[0;34m(self, x)\u001B[0m\n\u001B[1;32m     21\u001B[0m \u001B[38;5;28;01mdef\u001B[39;00m \u001B[38;5;21mforward\u001B[39m(\u001B[38;5;28mself\u001B[39m, x):\n\u001B[1;32m     22\u001B[0m     \u001B[38;5;66;03m# get the index of the models that x belongs to, should be integer\u001B[39;00m\n\u001B[1;32m     23\u001B[0m     idx \u001B[38;5;241m=\u001B[39m (x \u001B[38;5;241m/\u001B[39m \u001B[38;5;28mself\u001B[39m\u001B[38;5;241m.\u001B[39mxgap)\u001B[38;5;241m.\u001B[39mlong()  \u001B[38;5;66;03m# this will round down\u001B[39;00m\n\u001B[0;32m---> 24\u001B[0m     slope \u001B[38;5;241m=\u001B[39m (\u001B[38;5;28mself\u001B[39m\u001B[38;5;241m.\u001B[39mpy[idx \u001B[38;5;241m+\u001B[39m \u001B[38;5;241m1\u001B[39m] \u001B[38;5;241m-\u001B[39m \u001B[38;5;28mself\u001B[39m\u001B[38;5;241m.\u001B[39mpy[idx]) \u001B[38;5;241m/\u001B[39m \u001B[38;5;28mself\u001B[39m\u001B[38;5;241m.\u001B[39mxgap\n\u001B[1;32m     25\u001B[0m     intercept \u001B[38;5;241m=\u001B[39m \u001B[38;5;28mself\u001B[39m\u001B[38;5;241m.\u001B[39mpy[idx] \u001B[38;5;241m-\u001B[39m slope \u001B[38;5;241m*\u001B[39m \u001B[38;5;28mself\u001B[39m\u001B[38;5;241m.\u001B[39mpx[idx]\n\u001B[1;32m     26\u001B[0m     result \u001B[38;5;241m=\u001B[39m slope \u001B[38;5;241m*\u001B[39m x \u001B[38;5;241m+\u001B[39m intercept\n",
      "\u001B[0;31mIndexError\u001B[0m: index 65 is out of bounds for dimension 0 with size 65"
     ]
    }
   ],
   "source": [
    "# px should be spanning X, from min to max\n",
    "xgap=0.1\n",
    "px = torch.linspace(X.min(), X.max(), int((X.max() - X.min()) / xgap) + 1)\n",
    "model = PiecewiseLinearModel(px=px)\n",
    "model.fit(X, Y)\n",
    "model.print_model()"
   ],
   "metadata": {
    "collapsed": false,
    "ExecuteTime": {
     "end_time": "2024-07-12T22:14:15.294418Z",
     "start_time": "2024-07-12T22:14:15.039681Z"
    }
   },
   "id": "6569ddc7737f745b"
  },
  {
   "cell_type": "code",
   "execution_count": 1,
   "outputs": [
    {
     "ename": "ModuleNotFoundError",
     "evalue": "No module named 'gpytorch'",
     "output_type": "error",
     "traceback": [
      "\u001B[0;31m---------------------------------------------------------------------------\u001B[0m",
      "\u001B[0;31mModuleNotFoundError\u001B[0m                       Traceback (most recent call last)",
      "Cell \u001B[0;32mIn[1], line 2\u001B[0m\n\u001B[1;32m      1\u001B[0m \u001B[38;5;28;01mimport\u001B[39;00m \u001B[38;5;21;01mtorch\u001B[39;00m\n\u001B[0;32m----> 2\u001B[0m \u001B[38;5;28;01mimport\u001B[39;00m \u001B[38;5;21;01mgpytorch\u001B[39;00m\n\u001B[1;32m      3\u001B[0m \u001B[38;5;28;01mfrom\u001B[39;00m \u001B[38;5;21;01mmatplotlib\u001B[39;00m \u001B[38;5;28;01mimport\u001B[39;00m pyplot \u001B[38;5;28;01mas\u001B[39;00m plt\n\u001B[1;32m      5\u001B[0m \u001B[38;5;66;03m# Generate some synthetic data\u001B[39;00m\n",
      "\u001B[0;31mModuleNotFoundError\u001B[0m: No module named 'gpytorch'"
     ]
    }
   ],
   "source": [
    "import torch\n",
    "import gpytorch\n",
    "from matplotlib import pyplot as plt\n",
    "\n",
    "# Generate some synthetic data\n",
    "train_x = torch.linspace(0, 1, 100)\n",
    "train_y = torch.sin(train_x * (2 * torch.pi)) + torch.randn(train_x.size()) * 0.2\n",
    "\n",
    "# Define the GP Model\n",
    "class ExactGPModel(gpytorch.models.ExactGP):\n",
    "    def __init__(self, train_x, train_y, likelihood):\n",
    "        super(ExactGPModel, self).__init__(train_x, train_y, likelihood)\n",
    "        self.mean_module = gpytorch.means.ConstantMean()\n",
    "        self.covar_module = gpytorch.kernels.ScaleKernel(gpytorch.kernels.RBFKernel())\n",
    "\n",
    "    def forward(self, x):\n",
    "        mean_x = self.mean_module(x)\n",
    "        covar_x = self.covar_module(x)\n",
    "        return gpytorch.distributions.MultivariateNormal(mean_x, covar_x)\n",
    "\n",
    "# Initialize likelihood and model\n",
    "likelihood = gpytorch.likelihoods.GaussianLikelihood()\n",
    "model = ExactGPModel(train_x, train_y, likelihood)\n",
    "\n",
    "# Find optimal model hyperparameters\n",
    "model.train()\n",
    "likelihood.train()\n",
    "\n",
    "# Use the Adam optimizer\n",
    "optimizer = torch.optim.Adam(model.parameters(), lr=0.1)\n",
    "\n",
    "# \"Loss\" for GPs - the marginal log likelihood\n",
    "mll = gpytorch.mlls.ExactMarginalLogLikelihood(likelihood, model)\n",
    "\n",
    "training_iterations = 50\n",
    "for i in range(training_iterations):\n",
    "    optimizer.zero_grad()\n",
    "    output = model(train_x)\n",
    "    loss = -mll(output, train_y)\n",
    "    loss.backward()\n",
    "    print(f'Iter {i+1}/{training_iterations} - Loss: {loss.item():.3f}')\n",
    "    optimizer.step()\n",
    "\n",
    "# Set into eval mode\n",
    "model.eval()\n",
    "likelihood.eval()\n",
    "\n",
    "# Make predictions\n",
    "test_x = torch.linspace(0, 1, 51)\n",
    "with torch.no_grad(), gpytorch.settings.fast_pred_var():\n",
    "    observed_pred = likelihood(model(test_x))\n",
    "\n",
    "# Plot the results\n",
    "with torch.no_grad():\n",
    "    f, ax = plt.subplots(1, 1, figsize=(10, 6))\n",
    "    # Training data is red, predictions are blue\n",
    "    ax.plot(train_x.numpy(), train_y.numpy(), 'k*')\n",
    "    ax.plot(test_x.numpy(), observed_pred.mean.numpy(), 'b')\n",
    "    # Shade in confidence\n",
    "    ax.fill_between(test_x.numpy(), \n",
    "                    observed_pred.mean.numpy() - 2*observed_pred.variance.numpy(), \n",
    "                    observed_pred.mean.numpy() + 2*observed_pred.variance.numpy(), \n",
    "                    alpha=0.5)\n",
    "    ax.set_ylim([-3, 3])\n",
    "    ax.legend(['Observed Data', 'Mean', 'Confidence'])\n",
    "    plt.show()\n"
   ],
   "metadata": {
    "collapsed": false,
    "ExecuteTime": {
     "end_time": "2024-07-12T18:45:47.780155Z",
     "start_time": "2024-07-12T18:45:46.395001Z"
    }
   },
   "id": "47d9dfed9de9a403"
  },
  {
   "cell_type": "code",
   "execution_count": null,
   "outputs": [],
   "source": [],
   "metadata": {
    "collapsed": false
   },
   "id": "29007463fee27afe"
  }
 ],
 "metadata": {
  "kernelspec": {
   "name": "new_rna",
   "language": "python",
   "display_name": "Python (new_rna)"
  },
  "language_info": {
   "codemirror_mode": {
    "name": "ipython",
    "version": 2
   },
   "file_extension": ".py",
   "mimetype": "text/x-python",
   "name": "python",
   "nbconvert_exporter": "python",
   "pygments_lexer": "ipython2",
   "version": "2.7.6"
  }
 },
 "nbformat": 4,
 "nbformat_minor": 5
}
